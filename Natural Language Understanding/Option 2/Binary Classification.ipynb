{
 "cells": [
  {
   "cell_type": "markdown",
   "id": "23c55ee9-11eb-4688-8537-8bcda06675e4",
   "metadata": {},
   "source": [
    "# Predicting Project Outcomes\n",
    "## Introduction\n",
    "The downgrading of projects at the closing from moderately satisfactory to moderately unsatisfactory has been a persistent problem in the World Bank and a particular problem in the World Bank's East Asia and Pacific region since 2012. Through analysis of the projects that exited the East Asia and Pacific region's portfolio in fiscal years 2012 and 2013, this paper derives a prediction model based on ratings for implementation progress and achievement of development objectives during project supervision. The model, used in combination with other indicators of project progress toward outcomes, appears to improve on existing methods for assessing the downgrade risk.\n",
    "\n",
    "## Objective\n",
    "Our objective here is to build a binary classifier to predict the probability whether a project will be “closed” or “canceled/distressed”\n",
    "\n",
    "## Environment Setup"
   ]
  },
  {
   "cell_type": "code",
   "execution_count": 1,
   "id": "39f4a3cc-c033-4e6a-b5c4-934c180f8786",
   "metadata": {},
   "outputs": [],
   "source": [
    "from mpl_toolkits.mplot3d import Axes3D\n",
    "from sklearn.preprocessing import StandardScaler\n",
    "import matplotlib.pyplot as plt # plotting\n",
    "import numpy as np # linear algebra\n",
    "import os # accessing directory structure\n",
    "import pandas as pd # data processing, CSV file I/O (e.g. pd.read_csv)\n",
    "from sklearn.model_selection import train_test_split\n",
    "from sklearn.feature_selection import f_classif\n",
    "from sklearn.pipeline import make_pipeline\n",
    "from sklearn.ensemble import RandomForestClassifier\n",
    "from sklearn.tree import DecisionTreeClassifier\n",
    "from sklearn.naive_bayes import GaussianNB\n",
    "from sklearn.neighbors import KNeighborsClassifier\n",
    "from sklearn.linear_model import LogisticRegression, SGDClassifier\n",
    "from scipy.stats import chi2_contingency\n",
    "import seaborn as sns"
   ]
  },
  {
   "cell_type": "code",
   "execution_count": 2,
   "id": "3028384b-34fa-4a44-bb62-59db85f9de2c",
   "metadata": {},
   "outputs": [],
   "source": [
    "# Load data.The dataset includes basic information such as the project title, task manager, country, project id, sector, themes, commitment amount, product line, and financing. It also provides links to publicly disclosed online documents.\n",
    "data = pd.read_excel('World_Bank_Projects.xls')\n",
    "data.dataframeName = 'projects-operations-csv-.csv'"
   ]
  },
  {
   "cell_type": "markdown",
   "id": "a31efb6f-f269-4821-accf-881165d30052",
   "metadata": {},
   "source": [
    "## Data Exploration"
   ]
  },
  {
   "cell_type": "code",
   "execution_count": 3,
   "id": "e0cb0990-6c1c-4c9d-8d1c-9706a0cea9b1",
   "metadata": {},
   "outputs": [
    {
     "data": {
      "text/html": [
       "<div>\n",
       "<style scoped>\n",
       "    .dataframe tbody tr th:only-of-type {\n",
       "        vertical-align: middle;\n",
       "    }\n",
       "\n",
       "    .dataframe tbody tr th {\n",
       "        vertical-align: top;\n",
       "    }\n",
       "\n",
       "    .dataframe thead th {\n",
       "        text-align: right;\n",
       "    }\n",
       "</style>\n",
       "<table border=\"1\" class=\"dataframe\">\n",
       "  <thead>\n",
       "    <tr style=\"text-align: right;\">\n",
       "      <th></th>\n",
       "      <th>id</th>\n",
       "      <th>regionname</th>\n",
       "      <th>countryname</th>\n",
       "      <th>projectstatusdisplay</th>\n",
       "      <th>project_name</th>\n",
       "      <th>pdo</th>\n",
       "      <th>impagency</th>\n",
       "      <th>cons_serv_reqd_ind</th>\n",
       "      <th>url</th>\n",
       "      <th>boardapprovaldate</th>\n",
       "      <th>closingdate</th>\n",
       "      <th>projectfinancialtype</th>\n",
       "      <th>curr_project_cost</th>\n",
       "      <th>curr_ibrd_commitment</th>\n",
       "      <th>curr_ida_commitment</th>\n",
       "      <th>curr_total_commitment</th>\n",
       "      <th>grantamt</th>\n",
       "      <th>borrower</th>\n",
       "      <th>lendinginstr</th>\n",
       "      <th>envassesmentcategorycode</th>\n",
       "      <th>esrc_ovrl_risk_rate</th>\n",
       "      <th>sector1</th>\n",
       "      <th>sector2</th>\n",
       "      <th>sector3</th>\n",
       "      <th>theme1</th>\n",
       "      <th>theme2</th>\n",
       "    </tr>\n",
       "  </thead>\n",
       "  <tbody>\n",
       "    <tr>\n",
       "      <th>0</th>\n",
       "      <td>P174708</td>\n",
       "      <td>Middle East and North Africa</td>\n",
       "      <td>West Bank and Gaza</td>\n",
       "      <td>Active</td>\n",
       "      <td>Phase 2 Advancing Sustainability in Performanc...</td>\n",
       "      <td>To improve operational and financial performan...</td>\n",
       "      <td>Palestinian Energy and Natural Resources Autho...</td>\n",
       "      <td>NaN</td>\n",
       "      <td>http://projects.worldbank.org/P174708/null?lan...</td>\n",
       "      <td>2022-03-21T00:00:00Z</td>\n",
       "      <td>NaN</td>\n",
       "      <td>Other;Grants</td>\n",
       "      <td>23500000.0</td>\n",
       "      <td>0</td>\n",
       "      <td>0</td>\n",
       "      <td>0</td>\n",
       "      <td>15000000</td>\n",
       "      <td>Ministry of Finance</td>\n",
       "      <td>Investment Project Financing</td>\n",
       "      <td>B</td>\n",
       "      <td>Substantial</td>\n",
       "      <td>NaN</td>\n",
       "      <td>NaN</td>\n",
       "      <td>NaN</td>\n",
       "      <td>NaN</td>\n",
       "      <td>NaN</td>\n",
       "    </tr>\n",
       "    <tr>\n",
       "      <th>1</th>\n",
       "      <td>P176877</td>\n",
       "      <td>Latin America and Caribbean</td>\n",
       "      <td>Federative Republic of Brazil</td>\n",
       "      <td>Active</td>\n",
       "      <td>Governance Risk Assessment System Brazil Scale-Up</td>\n",
       "      <td>Improve the process of detecting fraud in publ...</td>\n",
       "      <td>National Council for Internal Control - CONACI</td>\n",
       "      <td>NaN</td>\n",
       "      <td>http://projects.worldbank.org/P176877/null?lan...</td>\n",
       "      <td>2022-03-21T00:00:00Z</td>\n",
       "      <td>NaN</td>\n",
       "      <td>Grants</td>\n",
       "      <td>130000.0</td>\n",
       "      <td>0</td>\n",
       "      <td>0</td>\n",
       "      <td>0</td>\n",
       "      <td>130000</td>\n",
       "      <td>National Council for Internal Control - CONACI</td>\n",
       "      <td>Investment Project Financing</td>\n",
       "      <td>NaN</td>\n",
       "      <td>Low</td>\n",
       "      <td>NaN</td>\n",
       "      <td>NaN</td>\n",
       "      <td>NaN</td>\n",
       "      <td>NaN</td>\n",
       "      <td>NaN</td>\n",
       "    </tr>\n",
       "    <tr>\n",
       "      <th>2</th>\n",
       "      <td>P160865</td>\n",
       "      <td>Africa West</td>\n",
       "      <td>Federal Republic of Nigeria</td>\n",
       "      <td>Active</td>\n",
       "      <td>Livestock Productivity and Resilience Support ...</td>\n",
       "      <td>To improve productivity, commercialization, an...</td>\n",
       "      <td>Federal Ministry of Agriculture and Rural Deve...</td>\n",
       "      <td>Y</td>\n",
       "      <td>http://projects.worldbank.org/P160865/null?lan...</td>\n",
       "      <td>2022-03-18T00:00:00Z</td>\n",
       "      <td>NaN</td>\n",
       "      <td>IDA</td>\n",
       "      <td>500000000.0</td>\n",
       "      <td>0</td>\n",
       "      <td>500000000</td>\n",
       "      <td>500000000</td>\n",
       "      <td>0</td>\n",
       "      <td>Federal Republic of Nigeria</td>\n",
       "      <td>Investment Project Financing</td>\n",
       "      <td>B</td>\n",
       "      <td>NaN</td>\n",
       "      <td>NaN</td>\n",
       "      <td>NaN</td>\n",
       "      <td>NaN</td>\n",
       "      <td>NaN</td>\n",
       "      <td>NaN</td>\n",
       "    </tr>\n",
       "    <tr>\n",
       "      <th>3</th>\n",
       "      <td>P170113</td>\n",
       "      <td>Europe and Central Asia</td>\n",
       "      <td>Republic of Kosovo</td>\n",
       "      <td>Active</td>\n",
       "      <td>Kosovo Public Finances and Sustainable Growth ...</td>\n",
       "      <td>The objective of the proposed Public Finances ...</td>\n",
       "      <td>Ministry of Finance, Labor and Transfers</td>\n",
       "      <td>NaN</td>\n",
       "      <td>http://projects.worldbank.org/P170113/null?lan...</td>\n",
       "      <td>2022-03-18T00:00:00Z</td>\n",
       "      <td>2023-09-30T00:00:00Z</td>\n",
       "      <td>IDA</td>\n",
       "      <td>56400000.0</td>\n",
       "      <td>0</td>\n",
       "      <td>56400000</td>\n",
       "      <td>56400000</td>\n",
       "      <td>0</td>\n",
       "      <td>Republic of Kosovo</td>\n",
       "      <td>Development Policy Lending</td>\n",
       "      <td>NaN</td>\n",
       "      <td>NaN</td>\n",
       "      <td>NaN</td>\n",
       "      <td>NaN</td>\n",
       "      <td>NaN</td>\n",
       "      <td>NaN</td>\n",
       "      <td>NaN</td>\n",
       "    </tr>\n",
       "    <tr>\n",
       "      <th>4</th>\n",
       "      <td>P172922</td>\n",
       "      <td>Africa East</td>\n",
       "      <td>United Republic of Tanzania</td>\n",
       "      <td>Active</td>\n",
       "      <td>Additional Financing to the Citizen-Centric Ju...</td>\n",
       "      <td>The project development objective is to improv...</td>\n",
       "      <td>Judiciary of Tanzania</td>\n",
       "      <td>NaN</td>\n",
       "      <td>http://projects.worldbank.org/P172922/null?lan...</td>\n",
       "      <td>2022-03-18T00:00:00Z</td>\n",
       "      <td>NaN</td>\n",
       "      <td>IDA</td>\n",
       "      <td>90000000.0</td>\n",
       "      <td>0</td>\n",
       "      <td>90000000</td>\n",
       "      <td>90000000</td>\n",
       "      <td>0</td>\n",
       "      <td>United Republic of Tanzania</td>\n",
       "      <td>Investment Project Financing</td>\n",
       "      <td>NaN</td>\n",
       "      <td>NaN</td>\n",
       "      <td>NaN</td>\n",
       "      <td>NaN</td>\n",
       "      <td>NaN</td>\n",
       "      <td>NaN</td>\n",
       "      <td>NaN</td>\n",
       "    </tr>\n",
       "  </tbody>\n",
       "</table>\n",
       "</div>"
      ],
      "text/plain": [
       "        id                    regionname                    countryname  \\\n",
       "0  P174708  Middle East and North Africa             West Bank and Gaza   \n",
       "1  P176877   Latin America and Caribbean  Federative Republic of Brazil   \n",
       "2  P160865                   Africa West    Federal Republic of Nigeria   \n",
       "3  P170113       Europe and Central Asia             Republic of Kosovo   \n",
       "4  P172922                   Africa East    United Republic of Tanzania   \n",
       "\n",
       "  projectstatusdisplay                                       project_name  \\\n",
       "0               Active  Phase 2 Advancing Sustainability in Performanc...   \n",
       "1               Active  Governance Risk Assessment System Brazil Scale-Up   \n",
       "2               Active  Livestock Productivity and Resilience Support ...   \n",
       "3               Active  Kosovo Public Finances and Sustainable Growth ...   \n",
       "4               Active  Additional Financing to the Citizen-Centric Ju...   \n",
       "\n",
       "                                                 pdo  \\\n",
       "0  To improve operational and financial performan...   \n",
       "1  Improve the process of detecting fraud in publ...   \n",
       "2  To improve productivity, commercialization, an...   \n",
       "3  The objective of the proposed Public Finances ...   \n",
       "4  The project development objective is to improv...   \n",
       "\n",
       "                                           impagency cons_serv_reqd_ind  \\\n",
       "0  Palestinian Energy and Natural Resources Autho...                NaN   \n",
       "1     National Council for Internal Control - CONACI                NaN   \n",
       "2  Federal Ministry of Agriculture and Rural Deve...                  Y   \n",
       "3           Ministry of Finance, Labor and Transfers                NaN   \n",
       "4                              Judiciary of Tanzania                NaN   \n",
       "\n",
       "                                                 url     boardapprovaldate  \\\n",
       "0  http://projects.worldbank.org/P174708/null?lan...  2022-03-21T00:00:00Z   \n",
       "1  http://projects.worldbank.org/P176877/null?lan...  2022-03-21T00:00:00Z   \n",
       "2  http://projects.worldbank.org/P160865/null?lan...  2022-03-18T00:00:00Z   \n",
       "3  http://projects.worldbank.org/P170113/null?lan...  2022-03-18T00:00:00Z   \n",
       "4  http://projects.worldbank.org/P172922/null?lan...  2022-03-18T00:00:00Z   \n",
       "\n",
       "            closingdate projectfinancialtype  curr_project_cost  \\\n",
       "0                   NaN         Other;Grants         23500000.0   \n",
       "1                   NaN               Grants           130000.0   \n",
       "2                   NaN                  IDA        500000000.0   \n",
       "3  2023-09-30T00:00:00Z                  IDA         56400000.0   \n",
       "4                   NaN                  IDA         90000000.0   \n",
       "\n",
       "   curr_ibrd_commitment  curr_ida_commitment  curr_total_commitment  grantamt  \\\n",
       "0                     0                    0                      0  15000000   \n",
       "1                     0                    0                      0    130000   \n",
       "2                     0            500000000              500000000         0   \n",
       "3                     0             56400000               56400000         0   \n",
       "4                     0             90000000               90000000         0   \n",
       "\n",
       "                                         borrower  \\\n",
       "0                             Ministry of Finance   \n",
       "1  National Council for Internal Control - CONACI   \n",
       "2                     Federal Republic of Nigeria   \n",
       "3                              Republic of Kosovo   \n",
       "4                     United Republic of Tanzania   \n",
       "\n",
       "                   lendinginstr envassesmentcategorycode esrc_ovrl_risk_rate  \\\n",
       "0  Investment Project Financing                        B         Substantial   \n",
       "1  Investment Project Financing                      NaN                 Low   \n",
       "2  Investment Project Financing                        B                 NaN   \n",
       "3    Development Policy Lending                      NaN                 NaN   \n",
       "4  Investment Project Financing                      NaN                 NaN   \n",
       "\n",
       "  sector1 sector2 sector3 theme1 theme2  \n",
       "0     NaN     NaN     NaN    NaN    NaN  \n",
       "1     NaN     NaN     NaN    NaN    NaN  \n",
       "2     NaN     NaN     NaN    NaN    NaN  \n",
       "3     NaN     NaN     NaN    NaN    NaN  \n",
       "4     NaN     NaN     NaN    NaN    NaN  "
      ]
     },
     "execution_count": 3,
     "metadata": {},
     "output_type": "execute_result"
    }
   ],
   "source": [
    "pd.options.display.max_columns = None\n",
    "data.head()"
   ]
  },
  {
   "cell_type": "code",
   "execution_count": 4,
   "id": "7f1515f9-2208-45ae-83ed-3a397d3c966c",
   "metadata": {},
   "outputs": [
    {
     "name": "stdout",
     "output_type": "stream",
     "text": [
      "<class 'pandas.core.frame.DataFrame'>\n",
      "RangeIndex: 21474 entries, 0 to 21473\n",
      "Data columns (total 26 columns):\n",
      " #   Column                    Non-Null Count  Dtype  \n",
      "---  ------                    --------------  -----  \n",
      " 0   id                        21474 non-null  object \n",
      " 1   regionname                21472 non-null  object \n",
      " 2   countryname               21472 non-null  object \n",
      " 3   projectstatusdisplay      21472 non-null  object \n",
      " 4   project_name              21474 non-null  object \n",
      " 5   pdo                       11508 non-null  object \n",
      " 6   impagency                 6535 non-null   object \n",
      " 7   cons_serv_reqd_ind        1436 non-null   object \n",
      " 8   url                       21474 non-null  object \n",
      " 9   boardapprovaldate         18600 non-null  object \n",
      " 10  closingdate               16452 non-null  object \n",
      " 11  projectfinancialtype      12861 non-null  object \n",
      " 12  curr_project_cost         21327 non-null  float64\n",
      " 13  curr_ibrd_commitment      21474 non-null  int64  \n",
      " 14  curr_ida_commitment       21474 non-null  int64  \n",
      " 15  curr_total_commitment     21474 non-null  int64  \n",
      " 16  grantamt                  21474 non-null  int64  \n",
      " 17  borrower                  6303 non-null   object \n",
      " 18  lendinginstr              21226 non-null  object \n",
      " 19  envassesmentcategorycode  13083 non-null  object \n",
      " 20  esrc_ovrl_risk_rate       1197 non-null   object \n",
      " 21  sector1                   19472 non-null  object \n",
      " 22  sector2                   11042 non-null  object \n",
      " 23  sector3                   7487 non-null   object \n",
      " 24  theme1                    12255 non-null  object \n",
      " 25  theme2                    9895 non-null   object \n",
      "dtypes: float64(1), int64(4), object(21)\n",
      "memory usage: 4.3+ MB\n"
     ]
    }
   ],
   "source": [
    "data.info()"
   ]
  },
  {
   "cell_type": "code",
   "execution_count": null,
   "id": "d5b0da7c-5ce9-4c19-9b6c-7191e2ef8704",
   "metadata": {},
   "outputs": [],
   "source": []
  },
  {
   "cell_type": "code",
   "execution_count": null,
   "id": "6d6d1407-4e38-4911-a517-5efa3b340024",
   "metadata": {},
   "outputs": [],
   "source": []
  },
  {
   "cell_type": "code",
   "execution_count": 5,
   "id": "4273a194-4820-4f0c-a181-faa50520bb18",
   "metadata": {},
   "outputs": [
    {
     "data": {
      "text/plain": [
       "impagency              0.695678\n",
       "cons_serv_reqd_ind     0.933128\n",
       "borrower               0.706482\n",
       "esrc_ovrl_risk_rate    0.944258\n",
       "sector3                0.651346\n",
       "theme2                 0.539210\n",
       "dtype: float64"
      ]
     },
     "execution_count": 5,
     "metadata": {},
     "output_type": "execute_result"
    }
   ],
   "source": [
    "# get a list of columns that have more than 50% null values\n",
    "na_values = data.isnull().mean()\n",
    "na_values[na_values>0.5]"
   ]
  },
  {
   "cell_type": "code",
   "execution_count": 6,
   "id": "fc347002-ad27-4b64-991a-aed97398fced",
   "metadata": {},
   "outputs": [],
   "source": [
    "# drop columns with more than 50% null values\n",
    "data.dropna(thresh = data.shape[0]*0.5, how = 'all', axis = 1, inplace = True)"
   ]
  },
  {
   "cell_type": "code",
   "execution_count": 7,
   "id": "734dc287-28be-4025-83a5-ff0edb635726",
   "metadata": {},
   "outputs": [
    {
     "name": "stdout",
     "output_type": "stream",
     "text": [
      "<class 'pandas.core.frame.DataFrame'>\n",
      "RangeIndex: 21474 entries, 0 to 21473\n",
      "Data columns (total 20 columns):\n",
      " #   Column                    Non-Null Count  Dtype  \n",
      "---  ------                    --------------  -----  \n",
      " 0   id                        21474 non-null  object \n",
      " 1   regionname                21472 non-null  object \n",
      " 2   countryname               21472 non-null  object \n",
      " 3   projectstatusdisplay      21472 non-null  object \n",
      " 4   project_name              21474 non-null  object \n",
      " 5   pdo                       11508 non-null  object \n",
      " 6   url                       21474 non-null  object \n",
      " 7   boardapprovaldate         18600 non-null  object \n",
      " 8   closingdate               16452 non-null  object \n",
      " 9   projectfinancialtype      12861 non-null  object \n",
      " 10  curr_project_cost         21327 non-null  float64\n",
      " 11  curr_ibrd_commitment      21474 non-null  int64  \n",
      " 12  curr_ida_commitment       21474 non-null  int64  \n",
      " 13  curr_total_commitment     21474 non-null  int64  \n",
      " 14  grantamt                  21474 non-null  int64  \n",
      " 15  lendinginstr              21226 non-null  object \n",
      " 16  envassesmentcategorycode  13083 non-null  object \n",
      " 17  sector1                   19472 non-null  object \n",
      " 18  sector2                   11042 non-null  object \n",
      " 19  theme1                    12255 non-null  object \n",
      "dtypes: float64(1), int64(4), object(15)\n",
      "memory usage: 3.3+ MB\n"
     ]
    }
   ],
   "source": [
    "# Re-explore the df\n",
    "data.info()"
   ]
  },
  {
   "cell_type": "markdown",
   "id": "2b9f1941-b827-47ea-b8fc-6792e095ce9e",
   "metadata": {},
   "source": [
    "## Identify the target variable"
   ]
  },
  {
   "cell_type": "code",
   "execution_count": 8,
   "id": "54591985-eb08-46ae-ae3c-74074ce8a7d2",
   "metadata": {},
   "outputs": [
    {
     "data": {
      "text/plain": [
       "Closed      0.732023\n",
       "Active      0.138273\n",
       "Dropped     0.079452\n",
       "Pipeline    0.050251\n",
       "Name: projectstatusdisplay, dtype: float64"
      ]
     },
     "execution_count": 8,
     "metadata": {},
     "output_type": "execute_result"
    }
   ],
   "source": [
    "# explore the unique values in loan_status column\n",
    "data['projectstatusdisplay'].value_counts(normalize = True)"
   ]
  },
  {
   "cell_type": "code",
   "execution_count": 9,
   "id": "fde48d7d-9ac7-4919-8bde-1e3b52190e57",
   "metadata": {},
   "outputs": [],
   "source": [
    "# create a new column based on the projectstatusdisplay column that will be our target variable\n",
    "data['will_close'] = np.where(data.loc[:, 'projectstatusdisplay'].isin(['Closed','Dropped']), 1, 0)\n",
    "# Drop the original 'projectstatusdisplay' column\n",
    "data.drop(columns = ['projectstatusdisplay'], inplace = True)\n",
    "\n",
    "'''\n",
    "drop redundant and forward-looking columns\n",
    "redundant like id, project_name, pdo, etc.\n",
    "\"closingdate\" is a forward-looking columns so will drop it as well\n",
    "'''\n",
    "data.drop(columns = ['id', 'project_name', 'pdo', 'url', \"closingdate\"], inplace = True)"
   ]
  },
  {
   "cell_type": "code",
   "execution_count": 10,
   "id": "fc3eb2d6-12a6-4e69-8f36-b897fd8c17e5",
   "metadata": {},
   "outputs": [
    {
     "data": {
      "text/plain": [
       "1    0.8114\n",
       "0    0.1886\n",
       "Name: will_close, dtype: float64"
      ]
     },
     "execution_count": 10,
     "metadata": {},
     "output_type": "execute_result"
    }
   ],
   "source": [
    "data['will_close'].value_counts(normalize = True)"
   ]
  },
  {
   "cell_type": "markdown",
   "id": "c038394e-0274-40d3-8cb9-c20b45d6013a",
   "metadata": {},
   "source": [
    "## EDA"
   ]
  },
  {
   "cell_type": "markdown",
   "id": "572ab944-508d-45ca-a7b0-28885c074fea",
   "metadata": {},
   "source": [
    "#### Line plot:"
   ]
  },
  {
   "cell_type": "code",
   "execution_count": 11,
   "id": "e13c03fc-2669-4c18-b6d7-576c1d564203",
   "metadata": {},
   "outputs": [
    {
     "data": {
      "text/plain": [
       "<AxesSubplot:>"
      ]
     },
     "execution_count": 11,
     "metadata": {},
     "output_type": "execute_result"
    },
    {
     "data": {
      "image/png": "[encoded data removed]",
      "text/plain": [
       "<Figure size 432x288 with 1 Axes>"
      ]
     },
     "metadata": {
      "needs_background": "light"
     },
     "output_type": "display_data"
    }
   ],
   "source": [
    "\n",
    "data.plot()"
   ]
  },
  {
   "cell_type": "code",
   "execution_count": 12,
   "id": "9a2c5e11-8490-4ae3-9848-971d7a8e5501",
   "metadata": {},
   "outputs": [
    {
     "data": {
      "text/plain": [
       "<AxesSubplot:xlabel='grantamt'>"
      ]
     },
     "execution_count": 12,
     "metadata": {},
     "output_type": "execute_result"
    },
    {
     "data": {
      "image/png": "[encoded data removed]",
      "text/plain": [
       "<Figure size 432x288 with 1 Axes>"
      ]
     },
     "metadata": {
      "needs_background": "light"
     },
     "output_type": "display_data"
    },
    {
     "data": {
      "image/png": "[encoded data removed]",
      "text/plain": [
       "<Figure size 432x288 with 1 Axes>"
      ]
     },
     "metadata": {
      "needs_background": "light"
     },
     "output_type": "display_data"
    },
    {
     "data": {
      "image/png": "[encoded data removed]",
      "text/plain": [
       "<Figure size 432x288 with 1 Axes>"
      ]
     },
     "metadata": {
      "needs_background": "light"
     },
     "output_type": "display_data"
    },
    {
     "data": {
      "image/png": "[encoded data removed]",
      "text/plain": [
       "<Figure size 432x288 with 1 Axes>"
      ]
     },
     "metadata": {
      "needs_background": "light"
     },
     "output_type": "display_data"
    }
   ],
   "source": [
    "# plotting a line chart Of X(independent var) with y(dependent var)\n",
    "data.plot(x=\"curr_project_cost\", y=\"will_close\")\n",
    "data.plot(x=\"regionname\", y=\"will_close\")\n",
    "data.plot(x=\"countryname\", y=\"will_close\")\n",
    "data.plot(x=\"grantamt\", y=\"will_close\")"
   ]
  },
  {
   "cell_type": "code",
   "execution_count": 13,
   "id": "db6f73f9-a420-43db-8871-4089043e2b09",
   "metadata": {},
   "outputs": [
    {
     "data": {
      "image/png": "[encoded data removed]",
      "text/plain": [
       "<Figure size 576x576 with 6 Axes>"
      ]
     },
     "metadata": {
      "needs_background": "light"
     },
     "output_type": "display_data"
    }
   ],
   "source": [
    "data.plot(subplots=True, figsize=(8, 8));"
   ]
  },
  {
   "cell_type": "code",
   "execution_count": null,
   "id": "569a52c6-c013-43da-9113-ec30bf0a743e",
   "metadata": {},
   "outputs": [],
   "source": []
  },
  {
   "cell_type": "markdown",
   "id": "ddb69871-e9d8-4f6b-abf4-a8b375a06974",
   "metadata": {},
   "source": [
    "## General data cleaning"
   ]
  },
  {
   "cell_type": "markdown",
   "id": "9c532aa9-e654-4f04-88b8-8ee67997c26f",
   "metadata": {},
   "source": [
    "### Need to Figure out percentage of missing data in each column\n",
    "Following is a function that calculates the number of missing values and the percentage of the total values that are missing for each column. As with many tasks in data science, I did not write this function myself, but rather found it online in a Stack Overflow Forum Missing Values"
   ]
  },
  {
   "cell_type": "code",
   "execution_count": 14,
   "id": "c2152a9f-50ec-4dce-a9b3-535a6cd9fc47",
   "metadata": {},
   "outputs": [
    {
     "name": "stdout",
     "output_type": "stream",
     "text": [
      "Your selected dataframe has 15 columns.\n",
      "There are 10 columns that have missing values.\n"
     ]
    },
    {
     "data": {
      "text/html": [
       "<div>\n",
       "<style scoped>\n",
       "    .dataframe tbody tr th:only-of-type {\n",
       "        vertical-align: middle;\n",
       "    }\n",
       "\n",
       "    .dataframe tbody tr th {\n",
       "        vertical-align: top;\n",
       "    }\n",
       "\n",
       "    .dataframe thead th {\n",
       "        text-align: right;\n",
       "    }\n",
       "</style>\n",
       "<table border=\"1\" class=\"dataframe\">\n",
       "  <thead>\n",
       "    <tr style=\"text-align: right;\">\n",
       "      <th></th>\n",
       "      <th>Missing Values</th>\n",
       "      <th>% of Total Values</th>\n",
       "    </tr>\n",
       "  </thead>\n",
       "  <tbody>\n",
       "    <tr>\n",
       "      <th>sector2</th>\n",
       "      <td>10432</td>\n",
       "      <td>48.6</td>\n",
       "    </tr>\n",
       "    <tr>\n",
       "      <th>theme1</th>\n",
       "      <td>9219</td>\n",
       "      <td>42.9</td>\n",
       "    </tr>\n",
       "    <tr>\n",
       "      <th>projectfinancialtype</th>\n",
       "      <td>8613</td>\n",
       "      <td>40.1</td>\n",
       "    </tr>\n",
       "    <tr>\n",
       "      <th>envassesmentcategorycode</th>\n",
       "      <td>8391</td>\n",
       "      <td>39.1</td>\n",
       "    </tr>\n",
       "    <tr>\n",
       "      <th>boardapprovaldate</th>\n",
       "      <td>2874</td>\n",
       "      <td>13.4</td>\n",
       "    </tr>\n",
       "    <tr>\n",
       "      <th>sector1</th>\n",
       "      <td>2002</td>\n",
       "      <td>9.3</td>\n",
       "    </tr>\n",
       "    <tr>\n",
       "      <th>lendinginstr</th>\n",
       "      <td>248</td>\n",
       "      <td>1.2</td>\n",
       "    </tr>\n",
       "    <tr>\n",
       "      <th>curr_project_cost</th>\n",
       "      <td>147</td>\n",
       "      <td>0.7</td>\n",
       "    </tr>\n",
       "    <tr>\n",
       "      <th>regionname</th>\n",
       "      <td>2</td>\n",
       "      <td>0.0</td>\n",
       "    </tr>\n",
       "    <tr>\n",
       "      <th>countryname</th>\n",
       "      <td>2</td>\n",
       "      <td>0.0</td>\n",
       "    </tr>\n",
       "  </tbody>\n",
       "</table>\n",
       "</div>"
      ],
      "text/plain": [
       "                          Missing Values  % of Total Values\n",
       "sector2                            10432               48.6\n",
       "theme1                              9219               42.9\n",
       "projectfinancialtype                8613               40.1\n",
       "envassesmentcategorycode            8391               39.1\n",
       "boardapprovaldate                   2874               13.4\n",
       "sector1                             2002                9.3\n",
       "lendinginstr                         248                1.2\n",
       "curr_project_cost                    147                0.7\n",
       "regionname                             2                0.0\n",
       "countryname                            2                0.0"
      ]
     },
     "execution_count": 14,
     "metadata": {},
     "output_type": "execute_result"
    }
   ],
   "source": [
    "# Function to calculate missing values by column\n",
    "def detect_outliers(df,n,features):\n",
    "    # import counter class from collections module\n",
    "    from collections import Counter\n",
    "    outlier_indices = []\n",
    "    \n",
    "    # iterate over features(columns)\n",
    "    for col in features:\n",
    "        # 1st quartile (25%)\n",
    "        Q1 = np.percentile(df[col], 25)\n",
    "        # 3rd quartile (75%)\n",
    "        Q3 = np.percentile(df[col],75)\n",
    "        # Interquartile range (IQR)\n",
    "        IQR = Q3 - Q1\n",
    "        \n",
    "        # outlier step\n",
    "        outlier_step = 1.5 * IQR\n",
    "        \n",
    "        # Determine a list of indices of outliers for feature col\n",
    "        outlier_list_col = df[(df[col] < Q1 - outlier_step) | (df[col] > Q3 + outlier_step )].index\n",
    "        \n",
    "        # append the found outlier indices for col to the list of outlier indices \n",
    "        outlier_indices.extend(outlier_list_col)\n",
    "        \n",
    "    # select observations containing more than 2 outliers\n",
    "    outlier_indices = Counter(outlier_indices)        \n",
    "    multiple_outliers = list( k for k, v in outlier_indices.items() if v > n )\n",
    "    \n",
    "    return multiple_outliers\n",
    "def missing_values_table(df):\n",
    "    \n",
    "        # Total missing values\n",
    "        mis_val = df.isnull().sum()\n",
    "        \n",
    "        # Percentage of missing values\n",
    "        mis_val_percent = 100 * df.isnull().sum() / len(df)\n",
    "        \n",
    "        # Make a table with the results\n",
    "        mis_val_table = pd.concat([mis_val, mis_val_percent], axis=1)\n",
    "        \n",
    "        # Rename the columns\n",
    "        mis_val_table_ren_columns = mis_val_table.rename(\n",
    "        columns = {0 : 'Missing Values', 1 : '% of Total Values'})\n",
    "        \n",
    "        # Sort the table by percentage of missing descending\n",
    "        mis_val_table_ren_columns = mis_val_table_ren_columns[\n",
    "            mis_val_table_ren_columns.iloc[:,1] != 0].sort_values(\n",
    "        '% of Total Values', ascending=False).round(1)\n",
    "        \n",
    "        # Print some summary information\n",
    "        print (\"Your selected dataframe has \" + str(df.shape[1]) + \" columns.\\n\"      \n",
    "            \"There are \" + str(mis_val_table_ren_columns.shape[0]) +\n",
    "              \" columns that have missing values.\")\n",
    "        \n",
    "        # Return the dataframe with missing information\n",
    "        return mis_val_table_ren_columns\n",
    "missing_values_table(data)"
   ]
  },
  {
   "cell_type": "code",
   "execution_count": 15,
   "id": "0ebf32ac-12fd-4bdb-8daa-234d036df2f1",
   "metadata": {},
   "outputs": [],
   "source": [
    "# dropping all the columns with excess Nan values\n",
    "data.drop(columns = [\"sector2\", \"theme1\", \"projectfinancialtype\", \"envassesmentcategorycode\"], inplace = True)"
   ]
  },
  {
   "cell_type": "markdown",
   "id": "c5a9a55c-e8e5-4046-b220-43637f15cee7",
   "metadata": {},
   "source": [
    "## Missing Values"
   ]
  },
  {
   "cell_type": "code",
   "execution_count": 16,
   "id": "cba209e5-7bea-464b-a96e-3260f50985c7",
   "metadata": {},
   "outputs": [],
   "source": [
    "data.dropna(axis = 0,inplace = True)"
   ]
  },
  {
   "cell_type": "code",
   "execution_count": 17,
   "id": "e3a4b3a1-503b-42bb-a792-5cf9db54e3a5",
   "metadata": {},
   "outputs": [
    {
     "data": {
      "text/plain": [
       "(18112, 11)"
      ]
     },
     "execution_count": 17,
     "metadata": {},
     "output_type": "execute_result"
    }
   ],
   "source": [
    "data.shape"
   ]
  },
  {
   "cell_type": "code",
   "execution_count": 18,
   "id": "840388f3-6086-4866-a7b9-97981d57b2de",
   "metadata": {},
   "outputs": [
    {
     "data": {
      "text/plain": [
       "regionname               0\n",
       "countryname              0\n",
       "boardapprovaldate        0\n",
       "curr_project_cost        0\n",
       "curr_ibrd_commitment     0\n",
       "curr_ida_commitment      0\n",
       "curr_total_commitment    0\n",
       "grantamt                 0\n",
       "lendinginstr             0\n",
       "sector1                  0\n",
       "will_close               0\n",
       "dtype: int64"
      ]
     },
     "execution_count": 18,
     "metadata": {},
     "output_type": "execute_result"
    }
   ],
   "source": [
    "data.isna().sum()"
   ]
  },
  {
   "cell_type": "markdown",
   "id": "a441965a-d930-4903-844d-229ce1dad302",
   "metadata": {},
   "source": [
    "## date columns"
   ]
  },
  {
   "cell_type": "code",
   "execution_count": 19,
   "id": "0bc0c3ce-1c13-4afd-95a0-737e1cde3f97",
   "metadata": {},
   "outputs": [],
   "source": [
    "import datetime\n",
    "\n",
    "# convert date columns to datetime format and create a new column as a difference between today and the respective date\n",
    "def convert_date(val):\n",
    "    try:\n",
    "        y,m,d = val.split('-')\n",
    "        d = d[:2]\n",
    "    except AttributeError:\n",
    "        return pd.NaT\n",
    "    return datetime.datetime(int(y),int(m),int(d))\n",
    "data.boardapprovaldate = data.boardapprovaldate.map(convert_date)\n",
    "# for i in df['boardapprovaldate']:\n",
    "#     df[column] = datetime.datetime.fromisoformat(str(df[column])[:-1]).astimezone(timezone.utc)\n",
    "def date_columns(df, column):\n",
    "\n",
    "    # store current month\n",
    "    today_date = pd.to_datetime('2022-03-25')\n",
    "    # convert to datetime format\n",
    "    df[column] = pd.to_datetime(df[column], format = \"%Y-%m-%d\")\n",
    "    # calculate the difference in months and add to a new column\n",
    "    df['mths_since_' + column] = round(pd.to_numeric((today_date - df[column]) / np.timedelta64(1, 'M')))\n",
    "    # make any resulting -ve values to be equal to the max date\n",
    "    df['mths_since_' + column] = df['mths_since_' + column].apply(lambda x: df['mths_since_' + column].max() if x < 0 else x)\n",
    "    # drop the original date column\n",
    "    df.drop(columns = [column], inplace = True)\n",
    "    \n",
    "# apply to data\n",
    "date_columns(data, 'boardapprovaldate')\n"
   ]
  },
  {
   "cell_type": "code",
   "execution_count": 20,
   "id": "4e32a0df-08f5-43fa-8e8e-54aca4478495",
   "metadata": {},
   "outputs": [
    {
     "data": {
      "text/plain": [
       "33    1.0\n",
       "39    1.0\n",
       "56    1.0\n",
       "63    2.0\n",
       "69    2.0\n",
       "Name: mths_since_boardapprovaldate, dtype: float64"
      ]
     },
     "execution_count": 20,
     "metadata": {},
     "output_type": "execute_result"
    }
   ],
   "source": [
    "data['mths_since_boardapprovaldate'].head()"
   ]
  },
  {
   "cell_type": "code",
   "execution_count": null,
   "id": "1f8bcc9b-ddb6-4d72-b587-4944b3cbaae2",
   "metadata": {},
   "outputs": [],
   "source": []
  },
  {
   "cell_type": "code",
   "execution_count": null,
   "id": "0370aeb3-f2dc-41cb-97b4-529b0ca215d1",
   "metadata": {},
   "outputs": [],
   "source": []
  },
  {
   "cell_type": "markdown",
   "id": "b66a44f6-5fec-4acd-a6d9-19bb06a37e62",
   "metadata": {},
   "source": [
    "## Split data"
   ]
  },
  {
   "cell_type": "code",
   "execution_count": 21,
   "id": "e92ed83c-447f-4103-9683-aee9e0a01c47",
   "metadata": {},
   "outputs": [],
   "source": [
    "# split data into 80/20 while keeping the distribution of bad loans in test set same as that in the pre-split dataset\n",
    "X = data.drop('will_close', axis = 1)\n",
    "y = data['will_close']\n",
    "X_train, X_test, y_train, y_test = train_test_split(X, y, test_size = 0.2, random_state = 42, stratify = y)\n",
    "\n",
    "# specifically hard copying the training sets to avoid Pandas' SetttingWithCopyWarning when we play around with this data later on.\n",
    "# as noted [here](https://github.com/scikit-learn/scikit-learn/issues/8723), this is currently an open issue between Pandas and Scikit-Learn teams\n",
    "X_train, X_test = X_train.copy(), X_test.copy()"
   ]
  },
  {
   "cell_type": "code",
   "execution_count": 22,
   "id": "eaafb0a4-cd3b-43db-889a-7c1dff5c56f3",
   "metadata": {},
   "outputs": [
    {
     "data": {
      "text/plain": [
       "((14489, 10), (3623, 10))"
      ]
     },
     "execution_count": 22,
     "metadata": {},
     "output_type": "execute_result"
    }
   ],
   "source": [
    "X_train.shape, X_test.shape"
   ]
  },
  {
   "cell_type": "markdown",
   "id": "bcff6310-6ffd-402d-afd0-6511ed862e64",
   "metadata": {},
   "source": [
    "# Feature selection"
   ]
  },
  {
   "cell_type": "code",
   "execution_count": 23,
   "id": "60a4303f-0e2a-455d-beab-515f3d2177ff",
   "metadata": {},
   "outputs": [],
   "source": [
    "# first divide training data into categorical and numerical subsets\n",
    "X_train_cat = X_train.select_dtypes(include = 'object').copy()\n",
    "X_train_num = X_train.select_dtypes(include = 'number').copy()"
   ]
  },
  {
   "cell_type": "code",
   "execution_count": 24,
   "id": "4dcc9cd3-75cb-4f5d-8e8e-e5e5ffd728c4",
   "metadata": {},
   "outputs": [
    {
     "data": {
      "text/plain": [
       "Index(['regionname', 'countryname', 'lendinginstr', 'sector1'], dtype='object')"
      ]
     },
     "execution_count": 24,
     "metadata": {},
     "output_type": "execute_result"
    }
   ],
   "source": [
    "X_train_cat.columns"
   ]
  },
  {
   "cell_type": "markdown",
   "id": "27b8eaf8-a52f-443c-8d22-f45befb30c1a",
   "metadata": {},
   "source": [
    "### Chi-squared statistic for categorical features"
   ]
  },
  {
   "cell_type": "code",
   "execution_count": 25,
   "id": "253629b0-6514-465e-ae0b-7f230b8350ca",
   "metadata": {},
   "outputs": [
    {
     "data": {
      "text/html": [
       "<div>\n",
       "<style scoped>\n",
       "    .dataframe tbody tr th:only-of-type {\n",
       "        vertical-align: middle;\n",
       "    }\n",
       "\n",
       "    .dataframe tbody tr th {\n",
       "        vertical-align: top;\n",
       "    }\n",
       "\n",
       "    .dataframe thead th {\n",
       "        text-align: right;\n",
       "    }\n",
       "</style>\n",
       "<table border=\"1\" class=\"dataframe\">\n",
       "  <thead>\n",
       "    <tr style=\"text-align: right;\">\n",
       "      <th></th>\n",
       "      <th>Feature</th>\n",
       "      <th>p-value</th>\n",
       "    </tr>\n",
       "  </thead>\n",
       "  <tbody>\n",
       "    <tr>\n",
       "      <th>0</th>\n",
       "      <td>regionname</td>\n",
       "      <td>0.0</td>\n",
       "    </tr>\n",
       "    <tr>\n",
       "      <th>1</th>\n",
       "      <td>countryname</td>\n",
       "      <td>0.0</td>\n",
       "    </tr>\n",
       "    <tr>\n",
       "      <th>2</th>\n",
       "      <td>lendinginstr</td>\n",
       "      <td>0.0</td>\n",
       "    </tr>\n",
       "    <tr>\n",
       "      <th>3</th>\n",
       "      <td>sector1</td>\n",
       "      <td>0.0</td>\n",
       "    </tr>\n",
       "  </tbody>\n",
       "</table>\n",
       "</div>"
      ],
      "text/plain": [
       "        Feature  p-value\n",
       "0    regionname      0.0\n",
       "1   countryname      0.0\n",
       "2  lendinginstr      0.0\n",
       "3       sector1      0.0"
      ]
     },
     "execution_count": 25,
     "metadata": {},
     "output_type": "execute_result"
    }
   ],
   "source": [
    "# define an empty dictionary to store chi-squared test results\n",
    "chi2_check = {}\n",
    "\n",
    "# loop over each column in the training set to calculate chi-statistic with the target variable\n",
    "for column in X_train_cat:\n",
    "    chi, p, dof, ex = chi2_contingency(pd.crosstab(y_train, X_train_cat[column]))\n",
    "    chi2_check.setdefault('Feature',[]).append(column)\n",
    "    chi2_check.setdefault('p-value',[]).append(round(p, 10))\n",
    "\n",
    "# convert the dictionary to a DF\n",
    "chi2_result = pd.DataFrame(data = chi2_check)\n",
    "chi2_result.sort_values(by = ['p-value'], ascending = True, ignore_index = True, inplace = True)\n",
    "chi2_result"
   ]
  },
  {
   "cell_type": "markdown",
   "id": "a26bea86-5b1c-42f2-b27b-ad152134e409",
   "metadata": {},
   "source": [
    "Let's keep four categorical features because they have a good p-score"
   ]
  },
  {
   "cell_type": "markdown",
   "id": "e3e8008d-7b22-44ca-87a8-a567c1127799",
   "metadata": {},
   "source": [
    "### ANOVA F-Statistic for numerical features"
   ]
  },
  {
   "cell_type": "code",
   "execution_count": 26,
   "id": "dfb0b05e-3786-4619-900b-c00b74d3abd8",
   "metadata": {},
   "outputs": [
    {
     "data": {
      "text/html": [
       "<div>\n",
       "<style scoped>\n",
       "    .dataframe tbody tr th:only-of-type {\n",
       "        vertical-align: middle;\n",
       "    }\n",
       "\n",
       "    .dataframe tbody tr th {\n",
       "        vertical-align: top;\n",
       "    }\n",
       "\n",
       "    .dataframe thead th {\n",
       "        text-align: right;\n",
       "    }\n",
       "</style>\n",
       "<table border=\"1\" class=\"dataframe\">\n",
       "  <thead>\n",
       "    <tr style=\"text-align: right;\">\n",
       "      <th></th>\n",
       "      <th>Numerical_Feature</th>\n",
       "      <th>F-Score</th>\n",
       "      <th>p values</th>\n",
       "    </tr>\n",
       "  </thead>\n",
       "  <tbody>\n",
       "    <tr>\n",
       "      <th>0</th>\n",
       "      <td>mths_since_boardapprovaldate</td>\n",
       "      <td>4688.891109</td>\n",
       "      <td>0.000000</td>\n",
       "    </tr>\n",
       "    <tr>\n",
       "      <th>1</th>\n",
       "      <td>curr_ida_commitment</td>\n",
       "      <td>673.358734</td>\n",
       "      <td>0.000000</td>\n",
       "    </tr>\n",
       "    <tr>\n",
       "      <th>2</th>\n",
       "      <td>curr_total_commitment</td>\n",
       "      <td>153.985571</td>\n",
       "      <td>0.000000</td>\n",
       "    </tr>\n",
       "    <tr>\n",
       "      <th>3</th>\n",
       "      <td>curr_project_cost</td>\n",
       "      <td>48.691630</td>\n",
       "      <td>0.000000</td>\n",
       "    </tr>\n",
       "    <tr>\n",
       "      <th>4</th>\n",
       "      <td>grantamt</td>\n",
       "      <td>10.860989</td>\n",
       "      <td>0.000984</td>\n",
       "    </tr>\n",
       "    <tr>\n",
       "      <th>5</th>\n",
       "      <td>curr_ibrd_commitment</td>\n",
       "      <td>0.028527</td>\n",
       "      <td>0.865879</td>\n",
       "    </tr>\n",
       "  </tbody>\n",
       "</table>\n",
       "</div>"
      ],
      "text/plain": [
       "              Numerical_Feature      F-Score  p values\n",
       "0  mths_since_boardapprovaldate  4688.891109  0.000000\n",
       "1           curr_ida_commitment   673.358734  0.000000\n",
       "2         curr_total_commitment   153.985571  0.000000\n",
       "3             curr_project_cost    48.691630  0.000000\n",
       "4                      grantamt    10.860989  0.000984\n",
       "5          curr_ibrd_commitment     0.028527  0.865879"
      ]
     },
     "execution_count": 26,
     "metadata": {},
     "output_type": "execute_result"
    }
   ],
   "source": [
    "# since f_class_if does not accept missing values, we will do a very crude imputation of missing values\n",
    "X_train_num.fillna(X_train_num.mean(), inplace = True)\n",
    "# Calculate F Statistic and corresponding p values\n",
    "F_statistic, p_values = f_classif(X_train_num, y_train)\n",
    "# convert to a DF\n",
    "ANOVA_F_table = pd.DataFrame(data = {'Numerical_Feature': X_train_num.columns.values, 'F-Score': F_statistic, 'p values': p_values.round(decimals=10)})\n",
    "ANOVA_F_table.sort_values(by = ['F-Score'], ascending = False, ignore_index = True, inplace = True)\n",
    "ANOVA_F_table"
   ]
  },
  {
   "cell_type": "markdown",
   "id": "3021c9bd-afe7-4896-89fe-1e6fa86cd67d",
   "metadata": {},
   "source": [
    "For the sake of simplicity, and low number of variable we will keep the features and calculate pair-wise correlations between them"
   ]
  },
  {
   "cell_type": "markdown",
   "id": "915aa61a-56fb-4dcc-a657-5b86c7660c55",
   "metadata": {},
   "source": [
    "### Pair wise correlations to detect multicollinearity"
   ]
  },
  {
   "cell_type": "code",
   "execution_count": 27,
   "id": "dd0fd746-2a9e-42de-a5a7-dec4c77c8464",
   "metadata": {},
   "outputs": [
    {
     "data": {
      "image/png": "[encoded data removed]",
      "text/plain": [
       "<Figure size 720x720 with 2 Axes>"
      ]
     },
     "metadata": {
      "needs_background": "light"
     },
     "output_type": "display_data"
    }
   ],
   "source": [
    "# save the top 20 numerical features in a list\n",
    "top_num_features = ANOVA_F_table.iloc[0:,0].to_list()\n",
    "# calculate pair-wise correlations between them\n",
    "corrmat = X_train_num[top_num_features].corr()\n",
    "plt.figure(figsize=(10,10))\n",
    "sns.heatmap(corrmat);"
   ]
  },
  {
   "cell_type": "markdown",
   "id": "d7ccb258-ca06-4394-9f45-cea1f8948d1f",
   "metadata": {},
   "source": [
    "since not a single feature have multicollinearity with other features, we don't have to drop any"
   ]
  },
  {
   "cell_type": "markdown",
   "id": "ff455399-2d23-430e-bfa4-1803e8522475",
   "metadata": {},
   "source": [
    "## Outliers Treatment"
   ]
  },
  {
   "cell_type": "code",
   "execution_count": 28,
   "id": "db2369bb-4964-4caf-b36a-14257ffe4421",
   "metadata": {},
   "outputs": [],
   "source": [
    "# These are the numerical features present in the dataset\n",
    "Outliers_to_drop = detect_outliers(X_train,2,[\"curr_ibrd_commitment\",            \n",
    "                                            \"curr_ida_commitment\" ,         \n",
    "                                            \"curr_total_commitment\" ,      \n",
    "                                            \"grantamt\",])"
   ]
  },
  {
   "cell_type": "code",
   "execution_count": 29,
   "id": "0c1d02f6-707c-4468-abb7-b85292301cb6",
   "metadata": {},
   "outputs": [],
   "source": [
    "X_train = X_train.drop(Outliers_to_drop, axis = 0).reset_index(drop=True)"
   ]
  },
  {
   "cell_type": "code",
   "execution_count": 30,
   "id": "8607b2c1-f644-4f01-b30a-10b44ddd7d81",
   "metadata": {},
   "outputs": [],
   "source": [
    "y_train = y_train.drop(Outliers_to_drop, axis = 0).reset_index(drop=True)"
   ]
  },
  {
   "cell_type": "code",
   "execution_count": 31,
   "id": "881568e5-7519-40af-8b68-ea84c6e1b0a8",
   "metadata": {},
   "outputs": [
    {
     "data": {
      "text/plain": [
       "(14437, 10)"
      ]
     },
     "execution_count": 31,
     "metadata": {},
     "output_type": "execute_result"
    }
   ],
   "source": [
    "X_train.shape"
   ]
  },
  {
   "cell_type": "markdown",
   "id": "709e9a0b-4225-41e6-a9ce-c295057b612d",
   "metadata": {},
   "source": [
    "## Creating dummy variables / Label encoding\n",
    "### Convet discrete variables (with less uniques values) to dummy variables and Label encoding the variables (with large numbers of unique values)"
   ]
  },
  {
   "cell_type": "code",
   "execution_count": 32,
   "id": "cc0c1e4d-eed6-41ad-a07f-f3d333ba2e1d",
   "metadata": {},
   "outputs": [
    {
     "data": {
      "text/plain": [
       "Index(['regionname', 'countryname', 'lendinginstr', 'sector1'], dtype='object')"
      ]
     },
     "execution_count": 32,
     "metadata": {},
     "output_type": "execute_result"
    }
   ],
   "source": [
    "object_col = X_train.select_dtypes(include = \"object\")\n",
    "object_col.columns"
   ]
  },
  {
   "cell_type": "code",
   "execution_count": 33,
   "id": "0f9c6fcd-032d-4cca-a8ee-1713e23a21af",
   "metadata": {},
   "outputs": [
    {
     "name": "stdout",
     "output_type": "stream",
     "text": [
      "\"regionname\" have 9 uniques\n",
      "\"countryname\" have 204 uniques\n",
      "\"lendinginstr\" have 18 uniques\n",
      "\"sector1\" have 144 uniques\n"
     ]
    }
   ],
   "source": [
    "# function to print number of uniques in input column\n",
    "def unique_printer(data, col_list):\n",
    "    for col in col_list:\n",
    "        print(f'\"{col}\" have {len(data[col].unique())} uniques')\n",
    "unique_printer(data, object_col)"
   ]
  },
  {
   "cell_type": "code",
   "execution_count": 34,
   "id": "e37f1db7-6f8d-4466-b3e2-c2f72e46b8e7",
   "metadata": {},
   "outputs": [
    {
     "data": {
      "text/plain": [
       "Republic of India                           0.038720\n",
       "Republic of Indonesia                       0.030339\n",
       "People's Republic of China                  0.029508\n",
       "Federative Republic of Brazil               0.026598\n",
       "Islamic Republic of Pakistan                0.021680\n",
       "                                              ...   \n",
       "Socialist People's Libyan Arab Jamahiriy    0.000069\n",
       "French Republic                             0.000069\n",
       "Antigua and Barbuda                         0.000069\n",
       "Grand Duchy of Luxembourg                   0.000069\n",
       "Mercosur                                    0.000069\n",
       "Name: countryname, Length: 203, dtype: float64"
      ]
     },
     "execution_count": 34,
     "metadata": {},
     "output_type": "execute_result"
    }
   ],
   "source": [
    "X_train['countryname'].value_counts(normalize = True)"
   ]
  },
  {
   "cell_type": "code",
   "execution_count": 35,
   "id": "b65cda8f-ffb6-4303-95ce-d7406a1a12b8",
   "metadata": {},
   "outputs": [
    {
     "data": {
      "text/plain": [
       "Central Government (Central Agencies)      0.097112\n",
       "Health                                     0.049248\n",
       "Social Protection                          0.048417\n",
       "Irrigation and Drainage                    0.032832\n",
       "Other Agriculture, Fishing and Forestry    0.029715\n",
       "                                             ...   \n",
       "(Historic)Agro-industry                    0.000069\n",
       "(Historic)Business environment             0.000069\n",
       "(Historic)Environmental institutions       0.000069\n",
       "Petrochemicals and fertilizers             0.000069\n",
       "(Historic)Macro/non-trade                  0.000069\n",
       "Name: sector1, Length: 142, dtype: float64"
      ]
     },
     "execution_count": 35,
     "metadata": {},
     "output_type": "execute_result"
    }
   ],
   "source": [
    "X_train['sector1'].value_counts(normalize = True)"
   ]
  },
  {
   "cell_type": "code",
   "execution_count": 36,
   "id": "878f2546-f6ca-4b04-9eb4-d146bd3c7568",
   "metadata": {},
   "outputs": [
    {
     "data": {
      "text/plain": [
       "array([ 87, 166, 119, 192, 143,  91, 106, 199, 120, 123,  33, 195, 164,\n",
       "        41, 197,  80, 131, 179,  30,   5, 172,   3,  81, 132,  66,  14,\n",
       "        56, 147, 136,  31, 198,  94,  59, 148, 200,  46,  62, 159, 126,\n",
       "       116,  49,  99,  10, 100,  36, 137, 157,  64, 102,  24, 112, 161,\n",
       "       101,   9,  39, 103, 173,  90, 139, 160, 128, 177,   7, 149,  28,\n",
       "        43,  74, 165, 162, 168,  26,  71, 117, 196, 138,  25, 156, 169,\n",
       "       144,  67, 146, 125,  83, 133, 170,  11, 185, 105,  85, 194,  38,\n",
       "       145,  60,  95,  48,  51,  55,  97,  18,  45,  65, 142,  92,  96,\n",
       "        98,  17,  86, 141,  52,   0,  19,  63, 130, 122,  44, 175, 174,\n",
       "       107, 191,  79, 187, 167, 171, 190, 155, 135, 134, 202, 153, 108,\n",
       "       124,  70,  22, 127,  82,  76,  15, 163, 180,  89,  77, 111, 158,\n",
       "       104,  40,   8,  58, 121, 129,  84, 114, 113, 184,  21, 110, 181,\n",
       "        75,  42,  72,  47,  54, 176, 152, 201,  23,  32,  93, 182, 140,\n",
       "        35, 118,  61,  37,  78, 183, 115, 188, 150,  13,  53,  27,  20,\n",
       "       186, 154,  29, 193,  88,  16,  57,  73, 189,   4,  12,   6, 109,\n",
       "       151,  50,   1, 178,  34,   2,  68,  69])"
      ]
     },
     "execution_count": 36,
     "metadata": {},
     "output_type": "execute_result"
    }
   ],
   "source": [
    "# function to create dummy variables\n",
    "def dummy_creation(df, columns_list):\n",
    "    df_dummies = []\n",
    "    for col in columns_list:\n",
    "        df_dummies.append(pd.get_dummies(df[col], prefix = col, prefix_sep = ':'))\n",
    "    df_dummies = pd.concat(df_dummies, axis = 1)\n",
    "    df = pd.concat([df, df_dummies], axis = 1)\n",
    "    df.drop(columns = columns_list, inplace = True)\n",
    "    return df\n",
    "\n",
    "# creating dummys of varibales that have less uniques\n",
    "X_train = dummy_creation(X_train, ['regionname', 'lendinginstr'])\n",
    "X_test = dummy_creation(X_test, ['regionname', 'lendinginstr'])\n",
    "\n",
    "# Import label encoder\n",
    "from sklearn import preprocessing\n",
    " \n",
    "# label_encoder object knows how to understand word labels.\n",
    "label_encoder = preprocessing.LabelEncoder()\n",
    " \n",
    "# Encode labels in column that have large number of  unique values\n",
    "X_train['countryname']= label_encoder.fit_transform(X_train['countryname'])\n",
    "X_train['sector1']= label_encoder.fit_transform(X_train['sector1'])\n",
    "\n",
    "X_test['countryname']= label_encoder.fit_transform(X_test['countryname'])\n",
    "X_test['sector1']= label_encoder.fit_transform(X_test['sector1'])\n",
    " \n",
    "X_train['countryname'].unique()"
   ]
  },
  {
   "cell_type": "code",
   "execution_count": 37,
   "id": "a79f8b8c-e81d-4d24-8f8b-36433a926763",
   "metadata": {},
   "outputs": [
    {
     "name": "stdout",
     "output_type": "stream",
     "text": [
      "<class 'pandas.core.frame.DataFrame'>\n",
      "Int64Index: 3623 entries, 7876 to 6477\n",
      "Data columns (total 35 columns):\n",
      " #   Column                                                Non-Null Count  Dtype  \n",
      "---  ------                                                --------------  -----  \n",
      " 0   countryname                                           3623 non-null   int32  \n",
      " 1   curr_project_cost                                     3623 non-null   float64\n",
      " 2   curr_ibrd_commitment                                  3623 non-null   int64  \n",
      " 3   curr_ida_commitment                                   3623 non-null   int64  \n",
      " 4   curr_total_commitment                                 3623 non-null   int64  \n",
      " 5   grantamt                                              3623 non-null   int64  \n",
      " 6   sector1                                               3623 non-null   int32  \n",
      " 7   mths_since_boardapprovaldate                          3623 non-null   float64\n",
      " 8   regionname:Africa                                     3623 non-null   uint8  \n",
      " 9   regionname:Africa East                                3623 non-null   uint8  \n",
      " 10  regionname:Africa West                                3623 non-null   uint8  \n",
      " 11  regionname:East Asia and Pacific                      3623 non-null   uint8  \n",
      " 12  regionname:Europe and Central Asia                    3623 non-null   uint8  \n",
      " 13  regionname:Latin America and Caribbean                3623 non-null   uint8  \n",
      " 14  regionname:Middle East and North Africa               3623 non-null   uint8  \n",
      " 15  regionname:Other                                      3623 non-null   uint8  \n",
      " 16  regionname:South Asia                                 3623 non-null   uint8  \n",
      " 17  lendinginstr:Adaptable Program Loan                   3623 non-null   uint8  \n",
      " 18  lendinginstr:Debt and Debt Service Reduction Loan     3623 non-null   uint8  \n",
      " 19  lendinginstr:Development Policy Lending               3623 non-null   uint8  \n",
      " 20  lendinginstr:Emergency Recovery Loan                  3623 non-null   uint8  \n",
      " 21  lendinginstr:Financial Intermediary Loan              3623 non-null   uint8  \n",
      " 22  lendinginstr:Investment Project Financing             3623 non-null   uint8  \n",
      " 23  lendinginstr:Learning and Innovation Loan             3623 non-null   uint8  \n",
      " 24  lendinginstr:Poverty Reduction Support Credit         3623 non-null   uint8  \n",
      " 25  lendinginstr:Program-for-Results Financing            3623 non-null   uint8  \n",
      " 26  lendinginstr:Programmatic Structural Adjustment Loan  3623 non-null   uint8  \n",
      " 27  lendinginstr:Rehabilitation Loan                      3623 non-null   uint8  \n",
      " 28  lendinginstr:Sector Adjustment Loan                   3623 non-null   uint8  \n",
      " 29  lendinginstr:Sector Investment and Maintenance Loan   3623 non-null   uint8  \n",
      " 30  lendinginstr:Special Structural Adjustment Loan       3623 non-null   uint8  \n",
      " 31  lendinginstr:Specific Investment Loan                 3623 non-null   uint8  \n",
      " 32  lendinginstr:Structural Adjustment Loan               3623 non-null   uint8  \n",
      " 33  lendinginstr:Technical Assistance Loan                3623 non-null   uint8  \n",
      " 34  lendinginstr:UNIDENTIFIED                             3623 non-null   uint8  \n",
      "dtypes: float64(2), int32(2), int64(4), uint8(27)\n",
      "memory usage: 322.0 KB\n"
     ]
    }
   ],
   "source": [
    "X_test.info()"
   ]
  },
  {
   "cell_type": "code",
   "execution_count": null,
   "id": "2b8a4b4e-2bb9-47b1-bc5e-f633aeaf5b84",
   "metadata": {},
   "outputs": [],
   "source": []
  },
  {
   "cell_type": "markdown",
   "id": "a3200be6-fb0d-4197-9c39-9786ed7ab5da",
   "metadata": {},
   "source": [
    "# Model"
   ]
  },
  {
   "cell_type": "code",
   "execution_count": 38,
   "id": "1fe5ad07-c683-4138-9a7d-0f266e2b7655",
   "metadata": {},
   "outputs": [
    {
     "name": "stdout",
     "output_type": "stream",
     "text": [
      "0.9359646701628485\n"
     ]
    },
    {
     "name": "stderr",
     "output_type": "stream",
     "text": [
      "C:\\Users\\aimlteam2\\anaconda3\\lib\\site-packages\\sklearn\\linear_model\\_logistic.py:763: ConvergenceWarning: lbfgs failed to converge (status=1):\n",
      "STOP: TOTAL NO. of ITERATIONS REACHED LIMIT.\n",
      "\n",
      "Increase the number of iterations (max_iter) or scale the data as shown in:\n",
      "    https://scikit-learn.org/stable/modules/preprocessing.html\n",
      "Please also refer to the documentation for alternative solver options:\n",
      "    https://scikit-learn.org/stable/modules/linear_model.html#logistic-regression\n",
      "  n_iter_i = _check_optimize_result(\n"
     ]
    },
    {
     "name": "stdout",
     "output_type": "stream",
     "text": [
      "0.9472812586254485\n",
      "0.6340049682583494\n",
      "0.934032569693624\n",
      "0.9585978470880486\n"
     ]
    }
   ],
   "source": [
    "# define modeling pipeline\n",
    "df_clf = make_pipeline(StandardScaler(),\n",
    "                    DecisionTreeClassifier())\n",
    "rf_clf = make_pipeline(StandardScaler(),\n",
    "                    RandomForestClassifier())\n",
    "sgd_clf = make_pipeline(StandardScaler(),\n",
    "                    SGDClassifier(max_iter=1000, tol=1e-3))\n",
    "lr = make_pipeline(StandardScaler(),\n",
    "                    LogisticRegression(solver='lbfgs', max_iter=100))\n",
    "gnb = make_pipeline(StandardScaler(),\n",
    "                    GaussianNB())\n",
    "# fitting the SGDClassifier pipeline and predicting on test dataset\n",
    "sgd_clf.fit(X_train, y_train)\n",
    "print(sgd_clf.score(X_test, y_test))\n",
    "# fitting the LogisticRegression pipeline and predicting on test dataset\n",
    "lr.fit(X_train, y_train)\n",
    "print(lr.score(X_test, y_test))\n",
    "# fitting the GaussianNB pipeline and predicting on test dataset\n",
    "gnb.fit(X_train, y_train)\n",
    "print(gnb.score(X_test, y_test))\n",
    "# fitting the DecisionTreeClassifier pipeline and predicting on test dataset\n",
    "df_clf.fit(X_train, y_train)\n",
    "print(df_clf.score(X_test, y_test))\n",
    "# fitting the RandomForestClassifier pipeline and predicting on test dataset\n",
    "rf_clf.fit(X_train, y_train)\n",
    "print(rf_clf.score(X_test, y_test))"
   ]
  },
  {
   "cell_type": "code",
   "execution_count": 56,
   "id": "5f1cf698-9a24-45e5-98b4-225b7fb6506a",
   "metadata": {},
   "outputs": [
    {
     "data": {
      "image/png": "[encoded data removed]",
      "text/plain": [
       "<Figure size 864x576 with 1 Axes>"
      ]
     },
     "metadata": {
      "needs_background": "light"
     },
     "output_type": "display_data"
    }
   ],
   "source": [
    "# creating the dataset\n",
    "data = {'DecisionTreeClassifier':df_clf.score(X_test, y_test), 'RandomForestClassifier++':rf_clf.score(X_test, y_test), 'SGDClassifier':sgd_clf.score(X_test, y_test),\n",
    "        'LogisticRegression':lr.score(X_test, y_test), 'GaussianNB':gnb.score(X_test, y_test)}\n",
    "courses = list(data.keys())\n",
    "values = list(data.values())\n",
    "  \n",
    "fig = plt.figure(figsize = (12, 8))\n",
    " \n",
    "# creating the bar plot\n",
    "plt.bar(courses, values, color ='maroon',\n",
    "        width = 0.4)\n",
    " \n",
    "plt.xlabel(\"MAchine Learning algorithm\")\n",
    "plt.ylabel(\"Test Accuracy\")\n",
    "plt.title(\"Test Accuracy of Different Algorithms\")\n",
    "plt.show()\n",
    "fig.savefig('test.png')"
   ]
  },
  {
   "cell_type": "code",
   "execution_count": 69,
   "id": "cba4d644-2322-462d-96c9-b0b21867cf2f",
   "metadata": {},
   "outputs": [
    {
     "data": {
      "image/png": "[encoded data removed]",
      "text/plain": [
       "<Figure size 864x576 with 1 Axes>"
      ]
     },
     "metadata": {
      "needs_background": "light"
     },
     "output_type": "display_data"
    }
   ],
   "source": [
    "import numpy as np\n",
    "import matplotlib.pyplot as plt\n",
    " \n",
    "# set width of bar\n",
    "barWidth = 0.25\n",
    "fig = plt.subplots(figsize =(12, 8))\n",
    " \n",
    "# set height of bar\n",
    "Train_Accuracy = [df_clf.score(X_train, y_train), rf_clf.score(X_train, y_train), sgd_clf.score(X_train, y_train), lr.score(X_train, y_train), gnb.score(X_train, y_train)]\n",
    "Test_Accuracy = [df_clf.score(X_test, y_test),rf_clf.score(X_test, y_test), sgd_clf.score(X_test, y_test), lr.score(X_test, y_test), gnb.score(X_test, y_test)]\n",
    " \n",
    "# Set position of bar on X axis\n",
    "br1 = np.arange(len(Train_Accuracy))\n",
    "br2 = [x + barWidth for x in br1]\n",
    "\n",
    " \n",
    "# Make the plot\n",
    "plt.bar(br1, Train_Accuracy, color ='teal', width = barWidth,\n",
    "        edgecolor ='grey', label ='Train Accuracy')\n",
    "plt.bar(br2, Test_Accuracy, color ='red', width = barWidth,\n",
    "        edgecolor ='grey', label ='Test Accuracy')\n",
    "\n",
    "# Adding Xticks\n",
    "plt.xlabel('Machine Learning Algorithm', fontweight ='bold', fontsize = 15)\n",
    "plt.ylabel('Accuracy', fontweight ='bold', fontsize = 15)\n",
    "plt.xticks([r + barWidth for r in range(len(Train_Accuracy))],\n",
    "        ['DecisionTreeClassifier', 'RandomForestClassifier', 'SGDClassifier', 'LogisticRegression', 'GaussianNB'])\n",
    "plt.savefig(\"{}train_test.png\", format='png')\n",
    "plt.legend()\n",
    "plt.show()\n"
   ]
  },
  {
   "cell_type": "code",
   "execution_count": 67,
   "id": "acebe3ad-77ac-4748-b421-c2ebad1e235d",
   "metadata": {},
   "outputs": [
    {
     "data": {
      "text/plain": [
       "(<Figure size 864x576 with 1 Axes>,\n",
       " <AxesSubplot:xlabel='Machine Learning Algorithm', ylabel='Accuracy'>)"
      ]
     },
     "execution_count": 67,
     "metadata": {},
     "output_type": "execute_result"
    }
   ],
   "source": [
    "fig1"
   ]
  },
  {
   "cell_type": "code",
   "execution_count": null,
   "id": "ea5640bf-9b3d-4c48-9eaf-d30a35de209d",
   "metadata": {},
   "outputs": [],
   "source": []
  },
  {
   "cell_type": "code",
   "execution_count": null,
   "id": "2058169c-6b19-4c27-ac44-892d6165adb7",
   "metadata": {},
   "outputs": [],
   "source": []
  },
  {
   "cell_type": "code",
   "execution_count": null,
   "id": "b0709bbe-43a6-420e-9684-d6b36a57a14b",
   "metadata": {},
   "outputs": [],
   "source": []
  },
  {
   "cell_type": "code",
   "execution_count": null,
   "id": "ec81b1c3-c3d5-49d3-8a09-21da84c3cf0d",
   "metadata": {},
   "outputs": [],
   "source": []
  },
  {
   "cell_type": "code",
   "execution_count": null,
   "id": "7eef47ee-fb97-409a-b273-07762584dad1",
   "metadata": {},
   "outputs": [],
   "source": []
  },
  {
   "cell_type": "code",
   "execution_count": null,
   "id": "7f126b75-b11b-4468-aadb-cac66b4b00a2",
   "metadata": {},
   "outputs": [],
   "source": []
  },
  {
   "cell_type": "code",
   "execution_count": null,
   "id": "fa2cd461-bb4b-472c-8063-3e895238620a",
   "metadata": {},
   "outputs": [],
   "source": []
  },
  {
   "cell_type": "code",
   "execution_count": null,
   "id": "cf3b02f3-fae0-4eee-870b-97673c28e430",
   "metadata": {},
   "outputs": [],
   "source": []
  },
  {
   "cell_type": "code",
   "execution_count": null,
   "id": "22f4b38f-7eb1-4647-b609-3f07e4dcc906",
   "metadata": {},
   "outputs": [],
   "source": []
  },
  {
   "cell_type": "code",
   "execution_count": null,
   "id": "e1a82c04-cbf0-4df7-af22-fd6534216531",
   "metadata": {},
   "outputs": [],
   "source": []
  },
  {
   "cell_type": "code",
   "execution_count": null,
   "id": "bca52988-ab49-443d-b2a3-8df8d02f3cf5",
   "metadata": {},
   "outputs": [],
   "source": []
  },
  {
   "cell_type": "code",
   "execution_count": null,
   "id": "f79cc29e-7d1a-44d6-a1d6-d5375b1d9d6b",
   "metadata": {},
   "outputs": [],
   "source": []
  },
  {
   "cell_type": "code",
   "execution_count": null,
   "id": "2718778c-414a-4fbf-9214-30f3be2695fe",
   "metadata": {},
   "outputs": [],
   "source": []
  },
  {
   "cell_type": "code",
   "execution_count": null,
   "id": "ea510702-8413-4370-a8c5-7b226854d97b",
   "metadata": {},
   "outputs": [],
   "source": []
  },
  {
   "cell_type": "code",
   "execution_count": null,
   "id": "ade87ab3-5e5c-47b9-b5de-973d370a04ce",
   "metadata": {},
   "outputs": [],
   "source": []
  }
 ],
 "metadata": {
  "kernelspec": {
   "display_name": "Python 3 (ipykernel)",
   "language": "python",
   "name": "python3"
  },
  "language_info": {
   "codemirror_mode": {
    "name": "ipython",
    "version": 3
   },
   "file_extension": ".py",
   "mimetype": "text/x-python",
   "name": "python",
   "nbconvert_exporter": "python",
   "pygments_lexer": "ipython3",
   "version": "3.9.7"
  }
 },
 "nbformat": 4,
 "nbformat_minor": 5
}
